{
 "cells": [
  {
   "cell_type": "code",
   "execution_count": 1,
   "metadata": {
    "ExecuteTime": {
     "end_time": "2021-04-19T15:06:02.359516Z",
     "start_time": "2021-04-19T15:05:59.242153Z"
    }
   },
   "outputs": [],
   "source": [
    "import torch\n",
    "import torch.nn as nn\n",
    "import torch.optim as optim\n",
    "import torch.nn.functional as F\n",
    "import torchvision\n",
    "from torchvision import transforms\n",
    "from torchsummary import summary\n",
    "\n",
    "import time\n",
    "import random\n",
    "\n",
    "import numpy as np\n",
    "import matplotlib.pyplot as plt"
   ]
  },
  {
   "cell_type": "code",
   "execution_count": 2,
   "metadata": {
    "ExecuteTime": {
     "end_time": "2021-04-19T15:06:02.415429Z",
     "start_time": "2021-04-19T15:06:02.363442Z"
    }
   },
   "outputs": [
    {
     "name": "stderr",
     "output_type": "stream",
     "text": [
      "C:\\Users\\nenec\\anaconda3\\lib\\site-packages\\torch\\cuda\\__init__.py:52: UserWarning: CUDA initialization: Found no NVIDIA driver on your system. Please check that you have an NVIDIA GPU and installed a driver from http://www.nvidia.com/Download/index.aspx (Triggered internally at  ..\\c10\\cuda\\CUDAFunctions.cpp:100.)\n",
      "  return torch._C._cuda_getDeviceCount() > 0\n"
     ]
    },
    {
     "data": {
      "text/plain": [
       "device(type='cpu')"
      ]
     },
     "execution_count": 2,
     "metadata": {},
     "output_type": "execute_result"
    }
   ],
   "source": [
    "device = torch.device(\"cuda\" if torch.cuda.is_available() else \"cpu\")\n",
    "device"
   ]
  },
  {
   "cell_type": "code",
   "execution_count": 3,
   "metadata": {
    "ExecuteTime": {
     "end_time": "2021-04-19T15:06:03.992258Z",
     "start_time": "2021-04-19T15:06:03.975475Z"
    }
   },
   "outputs": [],
   "source": [
    "#### FUNCTIONS DECLARATION ###"
   ]
  },
  {
   "cell_type": "code",
   "execution_count": 4,
   "metadata": {
    "ExecuteTime": {
     "end_time": "2021-04-19T15:06:04.883100Z",
     "start_time": "2021-04-19T15:06:04.868843Z"
    }
   },
   "outputs": [],
   "source": [
    "class Network(nn.Module):\n",
    "    def __init__(self):\n",
    "        super().__init__()\n",
    "        self.conv1 = nn.Conv2d(in_channels=1, out_channels=6, kernel_size=5) #kernel = filter size. #out = number of filters\n",
    "        self.conv2 = nn.Conv2d(in_channels=6, out_channels=12, kernel_size=5)\n",
    "\n",
    "        self.fc1 = nn.Linear(in_features=12 * 4 * 4, out_features=120)\n",
    "        self.fc2 = nn.Linear(in_features=120, out_features=60)\n",
    "        self.out = nn.Linear(in_features=60, out_features=10)\n",
    "      \n",
    "    \n",
    "    def forward(self, t):   \n",
    "    #hidden conv layers\n",
    "        t = self.conv1(t) \n",
    "        t = F.relu(t) #activation function\n",
    "        t = F.max_pool2d(t, kernel_size=2, stride=2)\n",
    "    \n",
    "        t = self.conv2(t)\n",
    "        t = F.relu(t)\n",
    "        t = F.max_pool2d(t, kernel_size=2, stride=2)\n",
    "    \n",
    "    #hidden linear layers.\n",
    "        t = t.reshape(-1, 12*4*4)\n",
    "        t = self.fc1(t)\n",
    "        t = F.relu(t)\n",
    "    \n",
    "        t = self.fc2(t)\n",
    "        t = F.relu(t)\n",
    "    \n",
    "    #output layer\n",
    "        t = self.out(t)\n",
    "  \n",
    "        return t"
   ]
  },
  {
   "cell_type": "code",
   "execution_count": 5,
   "metadata": {
    "ExecuteTime": {
     "end_time": "2021-04-19T15:06:05.933579Z",
     "start_time": "2021-04-19T15:06:05.918480Z"
    }
   },
   "outputs": [],
   "source": [
    "def get_num_correct(preds, labels): \n",
    "    return preds.argmax(dim=1).eq(labels).sum().item()"
   ]
  },
  {
   "cell_type": "code",
   "execution_count": 6,
   "metadata": {
    "ExecuteTime": {
     "end_time": "2021-04-19T15:06:07.563636Z",
     "start_time": "2021-04-19T15:06:07.551094Z"
    }
   },
   "outputs": [],
   "source": [
    "def training(network, loader, optimizer, num_epochs):\n",
    "    for epoch in range(num_epochs):\n",
    "\n",
    "        total_loss = 0\n",
    "        total_correct = 0\n",
    "\n",
    "        for batch in loader: #così prendo tutti i batch e quindi il dataset completo\n",
    "            images, labels = batch\n",
    "    \n",
    "            preds = network(images)\n",
    "            loss = F.cross_entropy(preds, labels)\n",
    "    \n",
    "            optimizer.zero_grad() #gradient must be reset every time, otherwise it's added to the previous one\n",
    "            loss.backward()\n",
    "            optimizer.step()\n",
    "    \n",
    "            total_loss += loss.item()\n",
    "            total_correct += get_num_correct(preds, labels)\n",
    "    \n",
    "        print(f'epoch: {epoch}, total_correct: {total_correct}, loss: {total_loss}')"
   ]
  },
  {
   "cell_type": "code",
   "execution_count": 7,
   "metadata": {
    "ExecuteTime": {
     "end_time": "2021-04-19T15:06:12.910602Z",
     "start_time": "2021-04-19T15:06:12.897198Z"
    }
   },
   "outputs": [],
   "source": [
    "def testing(network, dataset, loader):\n",
    "    total_correct = 0\n",
    "    for batch in loader:\n",
    "        images, labels = batch\n",
    "        predictions = network(images)\n",
    "        correct = get_num_correct(predictions, labels)\n",
    "        total_correct += correct\n",
    "    return(f'total correct: {total_correct} / {len(dataset)}. Accuracy: {(total_correct/len(dataset))*100}')"
   ]
  },
  {
   "cell_type": "code",
   "execution_count": 8,
   "metadata": {
    "ExecuteTime": {
     "end_time": "2021-04-19T15:06:14.696495Z",
     "start_time": "2021-04-19T15:06:14.681636Z"
    }
   },
   "outputs": [],
   "source": [
    "def find_indices(idx):\n",
    "    indices = []\n",
    "    for i in range(len(idx)):\n",
    "        if idx[i].item() == True:\n",
    "            indices.append(i)\n",
    "    return indices\n",
    "\n",
    "\n",
    "def split_dataset(dataset):\n",
    "    subsets = []\n",
    "    for i in range(10):\n",
    "        idx = mnist.targets==i\n",
    "        indices = find_indices(idx)\n",
    "        subset = torch.utils.data.Subset(dataset, indices)\n",
    "        #print('subset:', i, 'len: ', len(subset))\n",
    "        subsets.append(subset)\n",
    "    return subsets"
   ]
  },
  {
   "cell_type": "code",
   "execution_count": 9,
   "metadata": {
    "ExecuteTime": {
     "end_time": "2021-04-19T15:06:17.162212Z",
     "start_time": "2021-04-19T15:06:17.149068Z"
    }
   },
   "outputs": [],
   "source": [
    "def example_replay(N, network, memory_dataset, train_dataset, memory_loader, train_loader):\n",
    "    crumbs = []\n",
    "    for digit in digits:\n",
    "        l = len(digit)\n",
    "        indices = random.sample(range(1,l), N)\n",
    "        crumb = torch.utils.data.Subset(digit, indices)\n",
    "        crumbs.append(crumb)\n",
    "    crumbs.append(train_dataset)\n",
    "    dirty_dataset = torch.utils.data.ConcatDataset(crumbs)\n",
    "    dirty_loader = torch.utils.data.DataLoader(dirty_dataset, batch_size=100, shuffle=True)\n",
    "    print(f'Sto rinfrescando la memoria con {N} elementi da mnist per ogni classe. dirty: {len(dirty_dataset)}')\n",
    "    opt_replay = optim.Adam(network.parameters(), lr=0.01) \n",
    "    training(network, dirty_loader, opt_replay, 10)\n",
    "    print(f'Results for mnist: {testing(network, memory_dataset, memory_loader)}') \n",
    "    print(f'Results for training-dataset: {testing(network, train_dataset, train_loader)}')\n",
    "    print('    ')"
   ]
  },
  {
   "cell_type": "code",
   "execution_count": 10,
   "metadata": {
    "ExecuteTime": {
     "end_time": "2021-04-19T15:06:26.000642Z",
     "start_time": "2021-04-19T15:06:25.983402Z"
    }
   },
   "outputs": [],
   "source": [
    "#### DATASETS ###"
   ]
  },
  {
   "cell_type": "code",
   "execution_count": 11,
   "metadata": {
    "ExecuteTime": {
     "end_time": "2021-04-19T15:06:28.216466Z",
     "start_time": "2021-04-19T15:06:28.208294Z"
    }
   },
   "outputs": [],
   "source": [
    "USPS_transform = transforms.Compose([\n",
    "    transforms.Resize((28, 28)),\n",
    "    transforms.ToTensor(),\n",
    "])"
   ]
  },
  {
   "cell_type": "code",
   "execution_count": 12,
   "metadata": {
    "ExecuteTime": {
     "end_time": "2021-04-19T15:06:33.191982Z",
     "start_time": "2021-04-19T15:06:29.937516Z"
    }
   },
   "outputs": [],
   "source": [
    "mnist = torchvision.datasets.MNIST(\n",
    "                        root='./data'\n",
    "                       ,train=True\n",
    "                       ,download=True\n",
    "                       ,transform = transforms.Compose([transforms.ToTensor()])\n",
    "                        )\n",
    "\n",
    "fashion = torchvision.datasets.FashionMNIST(\n",
    "                        root='./data/FashionMNIST'\n",
    "                        ,train=True\n",
    "                        ,download=True\n",
    "                        ,transform=transforms.Compose([transforms.ToTensor()])\n",
    "                        )\n",
    "\n",
    "usps = torchvision.datasets.USPS(\"./data\"\n",
    "                     , train=True\n",
    "                     , download=True\n",
    "                     , transform = USPS_transform\n",
    "                    )\n"
   ]
  },
  {
   "cell_type": "code",
   "execution_count": 13,
   "metadata": {
    "ExecuteTime": {
     "end_time": "2021-04-19T15:06:33.207676Z",
     "start_time": "2021-04-19T15:06:33.195533Z"
    }
   },
   "outputs": [],
   "source": [
    "mnist_loader = torch.utils.data.DataLoader(mnist, batch_size = 100, shuffle=True)\n",
    "fashion_loader = torch.utils.data.DataLoader(fashion, batch_size = 100, shuffle=True)\n",
    "usps_loader = torch.utils.data.DataLoader(usps, batch_size = 100, shuffle=True)"
   ]
  },
  {
   "cell_type": "code",
   "execution_count": 14,
   "metadata": {
    "ExecuteTime": {
     "end_time": "2021-04-19T15:06:34.068923Z",
     "start_time": "2021-04-19T15:06:34.054601Z"
    }
   },
   "outputs": [],
   "source": [
    "######## CREIAMO IL NOSTRO NETWORK #####\n",
    "\n",
    "network = Network()\n",
    "optimizer = optim.Adam(network.parameters(), lr=0.01)"
   ]
  },
  {
   "cell_type": "code",
   "execution_count": 15,
   "metadata": {
    "ExecuteTime": {
     "end_time": "2021-04-19T15:12:30.865763Z",
     "start_time": "2021-04-19T15:06:36.954429Z"
    }
   },
   "outputs": [
    {
     "name": "stdout",
     "output_type": "stream",
     "text": [
      "epoch: 0, total_correct: 56063, loss: 126.12270255759358\n",
      "epoch: 1, total_correct: 58590, loss: 48.19147628429346\n",
      "epoch: 2, total_correct: 58742, loss: 42.75087843975052\n",
      "epoch: 3, total_correct: 58888, loss: 38.25904893380357\n",
      "epoch: 4, total_correct: 58951, loss: 38.96840668073855\n",
      "epoch: 5, total_correct: 59012, loss: 36.07952815084718\n",
      "epoch: 6, total_correct: 59060, loss: 35.85998096416006\n",
      "epoch: 7, total_correct: 59093, loss: 34.70628324430436\n",
      "epoch: 8, total_correct: 59124, loss: 33.69260239775758\n",
      "epoch: 9, total_correct: 59090, loss: 34.65646258946799\n"
     ]
    }
   ],
   "source": [
    "######## FACCIAMO IL TRAINING SU MNIST #######\n",
    "\n",
    "training(network, mnist_loader, optimizer, 10)"
   ]
  },
  {
   "cell_type": "code",
   "execution_count": 16,
   "metadata": {
    "ExecuteTime": {
     "end_time": "2021-04-19T15:13:15.410338Z",
     "start_time": "2021-04-19T15:13:15.380362Z"
    }
   },
   "outputs": [],
   "source": [
    "#### SALVIAMO QUESTA RETE #####\n",
    "\n",
    "torch.save(network.state_dict(), 'PATHS/mnist_trained.pth')"
   ]
  },
  {
   "cell_type": "code",
   "execution_count": 17,
   "metadata": {
    "ExecuteTime": {
     "end_time": "2021-04-19T15:14:15.582654Z",
     "start_time": "2021-04-19T15:13:23.410259Z"
    }
   },
   "outputs": [
    {
     "name": "stdout",
     "output_type": "stream",
     "text": [
      "mnist:  total correct: 59317 / 60000. Accuracy: 98.86166666666666\n",
      "usps:  total correct: 3260 / 7291. Accuracy: 44.712659443149086\n",
      "fashion:  total correct: 6610 / 60000. Accuracy: 11.016666666666666\n"
     ]
    }
   ],
   "source": [
    "#### FACCIAMO IL TEST SU MNIST/USPS/FASHION\n",
    "\n",
    "print('mnist: ', (testing(network, mnist, mnist_loader)))\n",
    "print('usps: ', (testing(network, usps, usps_loader)))\n",
    "print('fashion: ', (testing(network, fashion, fashion_loader)))"
   ]
  },
  {
   "cell_type": "code",
   "execution_count": 21,
   "metadata": {
    "ExecuteTime": {
     "end_time": "2021-04-19T15:18:31.120846Z",
     "start_time": "2021-04-19T15:16:20.334103Z"
    }
   },
   "outputs": [
    {
     "name": "stdout",
     "output_type": "stream",
     "text": [
      "epoch: 0, total_correct: 6610, loss: 24.15700989216566\n",
      "epoch: 1, total_correct: 6999, loss: 10.273860404267907\n",
      "epoch: 2, total_correct: 7097, loss: 6.829998582135886\n",
      "epoch: 3, total_correct: 7115, loss: 6.304347493685782\n",
      "epoch: 4, total_correct: 7174, loss: 4.059767778497189\n",
      "epoch: 5, total_correct: 7168, loss: 4.262478807242587\n",
      "epoch: 6, total_correct: 7181, loss: 3.609099432011135\n",
      "epoch: 7, total_correct: 7221, loss: 2.2873658523894846\n",
      "epoch: 8, total_correct: 7239, loss: 1.772407375217881\n",
      "epoch: 9, total_correct: 7241, loss: 1.6851980885548983\n"
     ]
    }
   ],
   "source": [
    "#### FACCIAMO IL TRAINING SU USPS SENZA MEMORIA ###\n",
    "\n",
    "training(network, usps_loader, optimizer, 10)"
   ]
  },
  {
   "cell_type": "code",
   "execution_count": 22,
   "metadata": {
    "ExecuteTime": {
     "end_time": "2021-04-19T15:19:48.575972Z",
     "start_time": "2021-04-19T15:18:48.038803Z"
    }
   },
   "outputs": [
    {
     "name": "stdout",
     "output_type": "stream",
     "text": [
      "mnist:  total correct: 51287 / 60000. Accuracy: 85.47833333333334\n",
      "usps:  total correct: 7251 / 7291. Accuracy: 99.45137841174049\n"
     ]
    }
   ],
   "source": [
    "### FACCIAMO IL TEST SU MNIST/USPS ###\n",
    "print('mnist: ', (testing(network, mnist, mnist_loader)))\n",
    "print('usps: ', (testing(network, usps, usps_loader)))"
   ]
  },
  {
   "cell_type": "code",
   "execution_count": 24,
   "metadata": {
    "ExecuteTime": {
     "end_time": "2021-04-19T16:05:21.181572Z",
     "start_time": "2021-04-19T15:21:23.255549Z"
    }
   },
   "outputs": [
    {
     "name": "stdout",
     "output_type": "stream",
     "text": [
      "Sto rinfrescando la memoria con 1 elementi da mnist per ogni classe. dirty: 7301\n",
      "epoch: 0, total_correct: 6572, loss: 24.672026626765614\n",
      "epoch: 1, total_correct: 7026, loss: 9.001401002286002\n",
      "epoch: 2, total_correct: 7097, loss: 7.0303090792149305\n",
      "epoch: 3, total_correct: 7135, loss: 5.849549734033644\n",
      "epoch: 4, total_correct: 7094, loss: 7.842577479314059\n",
      "epoch: 5, total_correct: 7185, loss: 3.8203589333425043\n",
      "epoch: 6, total_correct: 7186, loss: 4.045394099961413\n",
      "epoch: 7, total_correct: 7182, loss: 4.410895082866773\n",
      "epoch: 8, total_correct: 7204, loss: 2.733721412077955\n",
      "epoch: 9, total_correct: 7231, loss: 2.408134952536784\n",
      "Results for mnist: total correct: 49979 / 60000. Accuracy: 83.29833333333333\n",
      "Results for training-dataset: total correct: 7227 / 7291. Accuracy: 99.1222054587848\n",
      "    \n",
      "Sto rinfrescando la memoria con 2 elementi da mnist per ogni classe. dirty: 7311\n",
      "epoch: 0, total_correct: 6621, loss: 23.82147867232561\n",
      "epoch: 1, total_correct: 7025, loss: 10.230797497555614\n",
      "epoch: 2, total_correct: 7106, loss: 6.886237482540309\n",
      "epoch: 3, total_correct: 7154, loss: 5.1815822958014905\n",
      "epoch: 4, total_correct: 7168, loss: 5.493809308391064\n",
      "epoch: 5, total_correct: 7153, loss: 5.778694274369627\n",
      "epoch: 6, total_correct: 7177, loss: 3.9039484565146267\n",
      "epoch: 7, total_correct: 7214, loss: 3.1799702706048265\n",
      "epoch: 8, total_correct: 7235, loss: 2.3864495419547893\n",
      "epoch: 9, total_correct: 7255, loss: 2.110632305695617\n",
      "Results for mnist: total correct: 51610 / 60000. Accuracy: 86.01666666666667\n",
      "Results for training-dataset: total correct: 7238 / 7291. Accuracy: 99.27307639555617\n",
      "    \n",
      "Sto rinfrescando la memoria con 5 elementi da mnist per ogni classe. dirty: 7341\n",
      "epoch: 0, total_correct: 6653, loss: 24.25351645797491\n",
      "epoch: 1, total_correct: 7061, loss: 10.092272852547467\n",
      "epoch: 2, total_correct: 7128, loss: 7.508608144707978\n",
      "epoch: 3, total_correct: 7178, loss: 4.989741982892156\n",
      "epoch: 4, total_correct: 7220, loss: 3.847528310958296\n",
      "epoch: 5, total_correct: 7215, loss: 4.46939303225372\n",
      "epoch: 6, total_correct: 7201, loss: 5.214238128392026\n",
      "epoch: 7, total_correct: 7204, loss: 4.79131808062084\n",
      "epoch: 8, total_correct: 7223, loss: 3.713589209015481\n",
      "epoch: 9, total_correct: 7226, loss: 3.695424296776764\n",
      "Results for mnist: total correct: 54306 / 60000. Accuracy: 90.51\n",
      "Results for training-dataset: total correct: 7219 / 7291. Accuracy: 99.0124811411329\n",
      "    \n",
      "Sto rinfrescando la memoria con 10 elementi da mnist per ogni classe. dirty: 7391\n",
      "epoch: 0, total_correct: 6807, loss: 20.9334025233984\n",
      "epoch: 1, total_correct: 7154, loss: 8.043512526899576\n",
      "epoch: 2, total_correct: 7205, loss: 6.429376816377044\n",
      "epoch: 3, total_correct: 7244, loss: 4.896575029473752\n",
      "epoch: 4, total_correct: 7277, loss: 3.976398365921341\n",
      "epoch: 5, total_correct: 7261, loss: 4.146655505057424\n",
      "epoch: 6, total_correct: 7225, loss: 5.746470096055418\n",
      "epoch: 7, total_correct: 7256, loss: 4.298140571947442\n",
      "epoch: 8, total_correct: 7294, loss: 3.6624740140978247\n",
      "epoch: 9, total_correct: 7329, loss: 2.1147248588240473\n",
      "Results for mnist: total correct: 55358 / 60000. Accuracy: 92.26333333333334\n",
      "Results for training-dataset: total correct: 7264 / 7291. Accuracy: 99.62968042792484\n",
      "    \n",
      "Sto rinfrescando la memoria con 50 elementi da mnist per ogni classe. dirty: 7791\n",
      "epoch: 0, total_correct: 7100, loss: 24.48017479106784\n",
      "epoch: 1, total_correct: 7473, loss: 11.50085292942822\n",
      "epoch: 2, total_correct: 7555, loss: 7.779996985569596\n",
      "epoch: 3, total_correct: 7623, loss: 5.617087570019066\n",
      "epoch: 4, total_correct: 7628, loss: 4.868849177379161\n",
      "epoch: 5, total_correct: 7653, loss: 3.985345820314251\n",
      "epoch: 6, total_correct: 7655, loss: 4.835092444205657\n",
      "epoch: 7, total_correct: 7689, loss: 3.8016686418559402\n",
      "epoch: 8, total_correct: 7676, loss: 3.5230313958600163\n",
      "epoch: 9, total_correct: 7657, loss: 4.882437967695296\n",
      "Results for mnist: total correct: 56787 / 60000. Accuracy: 94.645\n",
      "Results for training-dataset: total correct: 7207 / 7291. Accuracy: 98.84789466465506\n",
      "    \n",
      "Sto rinfrescando la memoria con 100 elementi da mnist per ogni classe. dirty: 8291\n",
      "epoch: 0, total_correct: 7565, loss: 25.44121015071869\n",
      "epoch: 1, total_correct: 7977, loss: 11.006460120901465\n",
      "epoch: 2, total_correct: 8063, loss: 7.890801986679435\n",
      "epoch: 3, total_correct: 8127, loss: 6.021722589270212\n",
      "epoch: 4, total_correct: 8135, loss: 4.972789387393277\n",
      "epoch: 5, total_correct: 8157, loss: 5.301941621117294\n",
      "epoch: 6, total_correct: 8139, loss: 5.822346724336967\n",
      "epoch: 7, total_correct: 8169, loss: 4.789149573305622\n",
      "epoch: 8, total_correct: 8131, loss: 6.427218291908503\n",
      "epoch: 9, total_correct: 8159, loss: 4.9631222690295544\n",
      "Results for mnist: total correct: 57503 / 60000. Accuracy: 95.83833333333334\n",
      "Results for training-dataset: total correct: 7227 / 7291. Accuracy: 99.1222054587848\n",
      "    \n",
      "Sto rinfrescando la memoria con 500 elementi da mnist per ogni classe. dirty: 12291\n",
      "epoch: 0, total_correct: 11499, loss: 27.575163885951042\n",
      "epoch: 1, total_correct: 11856, loss: 14.843026688322425\n",
      "epoch: 2, total_correct: 11935, loss: 12.168566077016294\n",
      "epoch: 3, total_correct: 11971, loss: 11.381192068802193\n",
      "epoch: 4, total_correct: 11998, loss: 10.192593916784972\n",
      "epoch: 5, total_correct: 12053, loss: 7.9062489583157\n",
      "epoch: 6, total_correct: 12093, loss: 7.395568389212713\n",
      "epoch: 7, total_correct: 12089, loss: 7.883933486416936\n",
      "epoch: 8, total_correct: 12098, loss: 7.483760131057352\n",
      "epoch: 9, total_correct: 12100, loss: 6.928904680884443\n",
      "Results for mnist: total correct: 58687 / 60000. Accuracy: 97.81166666666667\n",
      "Results for training-dataset: total correct: 7164 / 7291. Accuracy: 98.25812645727609\n",
      "    \n",
      "Sto rinfrescando la memoria con 1000 elementi da mnist per ogni classe. dirty: 17291\n",
      "epoch: 0, total_correct: 16376, loss: 33.265544646885246\n",
      "epoch: 1, total_correct: 16811, loss: 17.308399679139256\n",
      "epoch: 2, total_correct: 16910, loss: 13.800422105239704\n",
      "epoch: 3, total_correct: 16956, loss: 12.576086472021416\n",
      "epoch: 4, total_correct: 16931, loss: 13.426456636982039\n",
      "epoch: 5, total_correct: 16888, loss: 16.67164970189333\n",
      "epoch: 6, total_correct: 16954, loss: 13.198205374530517\n",
      "epoch: 7, total_correct: 17021, loss: 9.774989177763928\n",
      "epoch: 8, total_correct: 16999, loss: 12.08672423439566\n",
      "epoch: 9, total_correct: 17034, loss: 9.599493240879383\n",
      "Results for mnist: total correct: 58835 / 60000. Accuracy: 98.05833333333334\n",
      "Results for training-dataset: total correct: 7151 / 7291. Accuracy: 98.07982444109176\n",
      "    \n",
      "Sto rinfrescando la memoria con 2000 elementi da mnist per ogni classe. dirty: 27291\n",
      "epoch: 0, total_correct: 26214, loss: 41.84807872399688\n",
      "epoch: 1, total_correct: 26590, loss: 27.37944295804482\n",
      "epoch: 2, total_correct: 26592, loss: 26.099868996301666\n",
      "epoch: 3, total_correct: 26671, loss: 23.63803756190464\n",
      "epoch: 4, total_correct: 26776, loss: 19.522100023343228\n",
      "epoch: 5, total_correct: 26799, loss: 18.720167455030605\n",
      "epoch: 6, total_correct: 26829, loss: 18.13515117939096\n",
      "epoch: 7, total_correct: 26890, loss: 14.816519601285108\n",
      "epoch: 8, total_correct: 26863, loss: 16.460898500983603\n",
      "epoch: 9, total_correct: 26784, loss: 20.478007021767553\n",
      "Results for mnist: total correct: 58995 / 60000. Accuracy: 98.32499999999999\n",
      "Results for training-dataset: total correct: 7063 / 7291. Accuracy: 96.87285694692086\n",
      "    \n",
      "Sto rinfrescando la memoria con 5000 elementi da mnist per ogni classe. dirty: 57291\n",
      "epoch: 0, total_correct: 55702, loss: 63.99605356156826\n",
      "epoch: 1, total_correct: 56179, loss: 44.47019311133772\n",
      "epoch: 2, total_correct: 56310, loss: 39.44635411945637\n",
      "epoch: 3, total_correct: 56288, loss: 38.26421993999975\n",
      "epoch: 4, total_correct: 56300, loss: 38.85516001546057\n",
      "epoch: 5, total_correct: 56305, loss: 41.252600608801\n",
      "epoch: 6, total_correct: 56425, loss: 35.742638667608844\n",
      "epoch: 7, total_correct: 56355, loss: 38.50424847379327\n",
      "epoch: 8, total_correct: 56396, loss: 38.635527496509894\n",
      "epoch: 9, total_correct: 56545, loss: 32.74407113034977\n",
      "Results for mnist: total correct: 59317 / 60000. Accuracy: 98.86166666666666\n",
      "Results for training-dataset: total correct: 7088 / 7291. Accuracy: 97.21574543958305\n",
      "    \n"
     ]
    }
   ],
   "source": [
    "### RIPRENDIAMO LA RETE MEMORIZZATA AL SOLO MNIST TRAINED E PROVIAMO A FARE IL TRAINING SU USPS CON MEMORIA DI MNIST ###\n",
    "### il nostro obiettivo sarà quello di migliorare l'accuratezza del mnist dell' 85% ###\n",
    "digits = split_dataset(mnist)\n",
    "network_mnist = Network()\n",
    "for N in (1,2,5,10,50,100,500,1000,2000,5000):\n",
    "    network_mnist.load_state_dict(torch.load('PATHS/mnist_trained.pth'))\n",
    "    example_replay(N, network_mnist, mnist, usps, mnist_loader, usps_loader)"
   ]
  },
  {
   "cell_type": "code",
   "execution_count": 25,
   "metadata": {
    "ExecuteTime": {
     "end_time": "2021-04-19T16:11:32.901450Z",
     "start_time": "2021-04-19T16:11:32.884491Z"
    }
   },
   "outputs": [],
   "source": [
    "########################################################################################################"
   ]
  },
  {
   "cell_type": "code",
   "execution_count": 26,
   "metadata": {
    "ExecuteTime": {
     "end_time": "2021-04-19T16:11:33.523468Z",
     "start_time": "2021-04-19T16:11:33.514469Z"
    }
   },
   "outputs": [],
   "source": [
    "# PROVIAMO A FARE LA STESSA COSA CON IL FASHION ####"
   ]
  },
  {
   "cell_type": "code",
   "execution_count": 28,
   "metadata": {
    "ExecuteTime": {
     "end_time": "2021-04-19T16:19:08.030153Z",
     "start_time": "2021-04-19T16:12:49.639901Z"
    }
   },
   "outputs": [
    {
     "name": "stdout",
     "output_type": "stream",
     "text": [
      "epoch: 0, total_correct: 46028, loss: 390.22389698028564\n",
      "epoch: 1, total_correct: 50604, loss: 256.0635912567377\n",
      "epoch: 2, total_correct: 51372, loss: 232.65366527438164\n",
      "epoch: 3, total_correct: 51786, loss: 222.0508035570383\n",
      "epoch: 4, total_correct: 51973, loss: 215.52699786424637\n",
      "epoch: 5, total_correct: 52230, loss: 208.8766010850668\n",
      "epoch: 6, total_correct: 52391, loss: 205.15099634230137\n",
      "epoch: 7, total_correct: 52530, loss: 201.1554946154356\n",
      "epoch: 8, total_correct: 52626, loss: 200.67799077928066\n",
      "epoch: 9, total_correct: 52670, loss: 196.334243029356\n"
     ]
    }
   ],
   "source": [
    "network_mnist.load_state_dict(torch.load('PATHS/mnist_trained.pth'))\n",
    "optimiz = optim.Adam(network_mnist.parameters(), lr=0.01)\n",
    "training(network_mnist, fashion_loader, optimiz, 10)"
   ]
  },
  {
   "cell_type": "code",
   "execution_count": 30,
   "metadata": {
    "ExecuteTime": {
     "end_time": "2021-04-19T16:22:34.684714Z",
     "start_time": "2021-04-19T16:21:56.462094Z"
    }
   },
   "outputs": [
    {
     "name": "stdout",
     "output_type": "stream",
     "text": [
      "mnist:  total correct: 7154 / 60000. Accuracy: 11.923333333333334\n",
      "fashion:  total correct: 51958 / 60000. Accuracy: 86.59666666666666\n"
     ]
    }
   ],
   "source": [
    "print('mnist: ', (testing(network_mnist, mnist, mnist_loader)))\n",
    "print('fashion: ', (testing(network_mnist, fashion, fashion_loader)))"
   ]
  },
  {
   "cell_type": "code",
   "execution_count": 31,
   "metadata": {
    "ExecuteTime": {
     "end_time": "2021-04-19T16:22:59.396474Z",
     "start_time": "2021-04-19T16:22:59.376466Z"
    }
   },
   "outputs": [],
   "source": [
    "#qui si vede meglio che il mnist è peggiorato tantissimo!! se facciamo l'example replay come migliorerà?"
   ]
  },
  {
   "cell_type": "code",
   "execution_count": 32,
   "metadata": {
    "ExecuteTime": {
     "end_time": "2021-04-19T17:31:02.580249Z",
     "start_time": "2021-04-19T16:24:02.787556Z"
    },
    "scrolled": false
   },
   "outputs": [
    {
     "name": "stdout",
     "output_type": "stream",
     "text": [
      "Sto rinfrescando la memoria con 1 elementi da mnist per ogni classe. dirty: 60010\n",
      "epoch: 0, total_correct: 45884, loss: 394.37612199783325\n",
      "epoch: 1, total_correct: 50583, loss: 257.1860605329275\n",
      "epoch: 2, total_correct: 51301, loss: 236.10310129541904\n",
      "epoch: 3, total_correct: 51649, loss: 224.20018675923347\n",
      "epoch: 4, total_correct: 51997, loss: 216.77026434242725\n",
      "epoch: 5, total_correct: 52226, loss: 211.31244352459908\n",
      "epoch: 6, total_correct: 52321, loss: 208.45472189038992\n",
      "epoch: 7, total_correct: 52436, loss: 204.71128568053246\n",
      "epoch: 8, total_correct: 52604, loss: 199.52684369683266\n",
      "epoch: 9, total_correct: 52669, loss: 197.20265114307404\n",
      "Results for mnist: total correct: 11966 / 60000. Accuracy: 19.94333333333333\n",
      "Results for training-dataset: total correct: 52224 / 60000. Accuracy: 87.03999999999999\n",
      "    \n",
      "Sto rinfrescando la memoria con 2 elementi da mnist per ogni classe. dirty: 60020\n",
      "epoch: 0, total_correct: 45535, loss: 397.87415140867233\n",
      "epoch: 1, total_correct: 50512, loss: 255.72372299432755\n",
      "epoch: 2, total_correct: 51270, loss: 234.86858686804771\n",
      "epoch: 3, total_correct: 51602, loss: 225.7712839692831\n",
      "epoch: 4, total_correct: 51820, loss: 219.43079075217247\n",
      "epoch: 5, total_correct: 52019, loss: 215.2031963020563\n",
      "epoch: 6, total_correct: 52199, loss: 211.5426620617509\n",
      "epoch: 7, total_correct: 52248, loss: 208.78731071949005\n",
      "epoch: 8, total_correct: 52317, loss: 206.25048668682575\n",
      "epoch: 9, total_correct: 52326, loss: 206.00823679566383\n",
      "Results for mnist: total correct: 11008 / 60000. Accuracy: 18.346666666666668\n",
      "Results for training-dataset: total correct: 52336 / 60000. Accuracy: 87.22666666666666\n",
      "    \n",
      "Sto rinfrescando la memoria con 5 elementi da mnist per ogni classe. dirty: 60050\n",
      "epoch: 0, total_correct: 46040, loss: 399.2563131451607\n",
      "epoch: 1, total_correct: 50681, loss: 257.516319334507\n",
      "epoch: 2, total_correct: 51430, loss: 235.39205506443977\n",
      "epoch: 3, total_correct: 51895, loss: 221.89979746937752\n",
      "epoch: 4, total_correct: 52024, loss: 216.65971741080284\n",
      "epoch: 5, total_correct: 52309, loss: 208.57940734922886\n",
      "epoch: 6, total_correct: 52445, loss: 204.24016074836254\n",
      "epoch: 7, total_correct: 52545, loss: 202.72985269129276\n",
      "epoch: 8, total_correct: 52672, loss: 198.65170055627823\n",
      "epoch: 9, total_correct: 52696, loss: 199.6646386384964\n",
      "Results for mnist: total correct: 18373 / 60000. Accuracy: 30.62166666666667\n",
      "Results for training-dataset: total correct: 53102 / 60000. Accuracy: 88.50333333333333\n",
      "    \n",
      "Sto rinfrescando la memoria con 10 elementi da mnist per ogni classe. dirty: 60100\n",
      "epoch: 0, total_correct: 45871, loss: 399.64288634061813\n",
      "epoch: 1, total_correct: 50571, loss: 259.51862621307373\n",
      "epoch: 2, total_correct: 51361, loss: 236.83203774690628\n",
      "epoch: 3, total_correct: 51793, loss: 223.7376923263073\n",
      "epoch: 4, total_correct: 52075, loss: 216.27905404567719\n",
      "epoch: 5, total_correct: 52301, loss: 211.86254212260246\n",
      "epoch: 6, total_correct: 52544, loss: 206.76618000864983\n",
      "epoch: 7, total_correct: 52531, loss: 203.75532884895802\n",
      "epoch: 8, total_correct: 52639, loss: 200.93412002921104\n",
      "epoch: 9, total_correct: 52799, loss: 197.46236543357372\n",
      "Results for mnist: total correct: 23899 / 60000. Accuracy: 39.83166666666666\n",
      "Results for training-dataset: total correct: 52929 / 60000. Accuracy: 88.215\n",
      "    \n",
      "Sto rinfrescando la memoria con 50 elementi da mnist per ogni classe. dirty: 60500\n",
      "epoch: 0, total_correct: 46079, loss: 405.36476853489876\n",
      "epoch: 1, total_correct: 50989, loss: 260.0671038776636\n",
      "epoch: 2, total_correct: 51896, loss: 234.8623593300581\n",
      "epoch: 3, total_correct: 52311, loss: 223.25800116360188\n",
      "epoch: 4, total_correct: 52532, loss: 217.60348592698574\n",
      "epoch: 5, total_correct: 52732, loss: 212.794469691813\n",
      "epoch: 6, total_correct: 52802, loss: 209.1324917152524\n",
      "epoch: 7, total_correct: 52989, loss: 203.85104298591614\n",
      "epoch: 8, total_correct: 53156, loss: 200.39762371778488\n",
      "epoch: 9, total_correct: 53294, loss: 197.27761571109295\n",
      "Results for mnist: total correct: 48685 / 60000. Accuracy: 81.14166666666667\n",
      "Results for training-dataset: total correct: 52767 / 60000. Accuracy: 87.945\n",
      "    \n",
      "Sto rinfrescando la memoria con 100 elementi da mnist per ogni classe. dirty: 61000\n",
      "epoch: 0, total_correct: 46280, loss: 406.9092935323715\n",
      "epoch: 1, total_correct: 51300, loss: 266.75088016688824\n",
      "epoch: 2, total_correct: 51943, loss: 245.84210196137428\n",
      "epoch: 3, total_correct: 52509, loss: 229.4074788838625\n",
      "epoch: 4, total_correct: 52808, loss: 221.54386689513922\n",
      "epoch: 5, total_correct: 52830, loss: 221.5472110658884\n",
      "epoch: 6, total_correct: 53068, loss: 215.5205139219761\n",
      "epoch: 7, total_correct: 53293, loss: 207.24546483159065\n",
      "epoch: 8, total_correct: 53452, loss: 206.62724888324738\n",
      "epoch: 9, total_correct: 53401, loss: 207.28351825475693\n",
      "Results for mnist: total correct: 52440 / 60000. Accuracy: 87.4\n",
      "Results for training-dataset: total correct: 52864 / 60000. Accuracy: 88.10666666666667\n",
      "    \n",
      "Sto rinfrescando la memoria con 500 elementi da mnist per ogni classe. dirty: 65000\n",
      "epoch: 0, total_correct: 50248, loss: 416.1700190603733\n",
      "epoch: 1, total_correct: 55176, loss: 272.02316787838936\n",
      "epoch: 2, total_correct: 55891, loss: 252.27279010415077\n",
      "epoch: 3, total_correct: 56323, loss: 237.69979751110077\n",
      "epoch: 4, total_correct: 56528, loss: 234.42351491749287\n",
      "epoch: 5, total_correct: 56666, loss: 229.64723287522793\n",
      "epoch: 6, total_correct: 56848, loss: 226.40815809369087\n",
      "epoch: 7, total_correct: 56962, loss: 220.15276537835598\n",
      "epoch: 8, total_correct: 57136, loss: 215.9156299829483\n",
      "epoch: 9, total_correct: 57240, loss: 213.2326549515128\n",
      "Results for mnist: total correct: 56555 / 60000. Accuracy: 94.25833333333333\n",
      "Results for training-dataset: total correct: 52426 / 60000. Accuracy: 87.37666666666667\n",
      "    \n",
      "Sto rinfrescando la memoria con 1000 elementi da mnist per ogni classe. dirty: 70000\n",
      "epoch: 0, total_correct: 55745, loss: 401.5701138973236\n",
      "epoch: 1, total_correct: 60170, loss: 273.24639654159546\n",
      "epoch: 2, total_correct: 61047, loss: 247.19950872659683\n",
      "epoch: 3, total_correct: 61412, loss: 236.26409143209457\n",
      "epoch: 4, total_correct: 61555, loss: 230.99067321419716\n",
      "epoch: 5, total_correct: 61868, loss: 224.29450649023056\n",
      "epoch: 6, total_correct: 62046, loss: 219.38388200104237\n",
      "epoch: 7, total_correct: 62096, loss: 220.64305979013443\n",
      "epoch: 8, total_correct: 62285, loss: 212.72431710362434\n",
      "epoch: 9, total_correct: 62300, loss: 214.5987190976739\n",
      "Results for mnist: total correct: 57227 / 60000. Accuracy: 95.37833333333333\n",
      "Results for training-dataset: total correct: 52596 / 60000. Accuracy: 87.66000000000001\n",
      "    \n",
      "Sto rinfrescando la memoria con 2000 elementi da mnist per ogni classe. dirty: 80000\n",
      "epoch: 0, total_correct: 65556, loss: 417.60185803472996\n",
      "epoch: 1, total_correct: 69629, loss: 291.5694100856781\n",
      "epoch: 2, total_correct: 70267, loss: 272.56172224879265\n",
      "epoch: 3, total_correct: 70657, loss: 260.07511995732784\n",
      "epoch: 4, total_correct: 70921, loss: 255.11019825935364\n",
      "epoch: 5, total_correct: 71163, loss: 244.23111113905907\n",
      "epoch: 6, total_correct: 71226, loss: 246.74995148926973\n",
      "epoch: 7, total_correct: 71411, loss: 238.8073138743639\n",
      "epoch: 8, total_correct: 71636, loss: 234.85620291531086\n",
      "epoch: 9, total_correct: 71584, loss: 235.46443805098534\n",
      "Results for mnist: total correct: 58490 / 60000. Accuracy: 97.48333333333333\n",
      "Results for training-dataset: total correct: 52501 / 60000. Accuracy: 87.50166666666667\n",
      "    \n",
      "Sto rinfrescando la memoria con 5000 elementi da mnist per ogni classe. dirty: 110000\n",
      "epoch: 0, total_correct: 94587, loss: 445.84848841279745\n",
      "epoch: 1, total_correct: 98764, loss: 319.97315960377455\n",
      "epoch: 2, total_correct: 99369, loss: 305.12321981042624\n",
      "epoch: 3, total_correct: 99824, loss: 292.88795202225447\n",
      "epoch: 4, total_correct: 100020, loss: 283.8696344718337\n",
      "epoch: 5, total_correct: 100159, loss: 284.341859318316\n",
      "epoch: 6, total_correct: 100271, loss: 281.30115074664354\n",
      "epoch: 7, total_correct: 100473, loss: 269.69352846592665\n",
      "epoch: 8, total_correct: 100782, loss: 268.4432427883148\n",
      "epoch: 9, total_correct: 100447, loss: 276.7762018367648\n",
      "Results for mnist: total correct: 58815 / 60000. Accuracy: 98.02499999999999\n",
      "Results for training-dataset: total correct: 51715 / 60000. Accuracy: 86.19166666666666\n",
      "    \n"
     ]
    }
   ],
   "source": [
    "for N in (1,2,5,10,50,100,500,1000,2000,5000):\n",
    "    network_mnist.load_state_dict(torch.load('PATHS/mnist_trained.pth'))\n",
    "    example_replay(N, network_mnist, mnist, fashion, mnist_loader, fashion_loader)"
   ]
  },
  {
   "cell_type": "code",
   "execution_count": null,
   "metadata": {},
   "outputs": [],
   "source": []
  }
 ],
 "metadata": {
  "kernelspec": {
   "display_name": "Python 3",
   "language": "python",
   "name": "python3"
  },
  "language_info": {
   "codemirror_mode": {
    "name": "ipython",
    "version": 3
   },
   "file_extension": ".py",
   "mimetype": "text/x-python",
   "name": "python",
   "nbconvert_exporter": "python",
   "pygments_lexer": "ipython3",
   "version": "3.8.3"
  }
 },
 "nbformat": 4,
 "nbformat_minor": 4
}
